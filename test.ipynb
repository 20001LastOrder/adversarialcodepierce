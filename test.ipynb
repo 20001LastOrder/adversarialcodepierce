{
 "cells": [
  {
   "cell_type": "code",
   "execution_count": 8,
   "metadata": {},
   "outputs": [],
   "source": [
    "import json\n",
    "import glob\n",
    "import matplotlib.pyplot as plt\n",
    "import seaborn as sns\n"
   ]
  },
  {
   "cell_type": "code",
   "execution_count": 20,
   "metadata": {},
   "outputs": [],
   "source": [
    "with open(\"variable_distances_graphcodebert.json\") as f:\n",
    "    variable_distances = json.load(f)"
   ]
  },
  {
   "cell_type": "code",
   "execution_count": 21,
   "metadata": {},
   "outputs": [],
   "source": [
    "items = variable_distances.items()\n",
    "\n",
    "sorted_items = sorted(items, key=lambda x: x[1])"
   ]
  },
  {
   "cell_type": "code",
   "execution_count": 22,
   "metadata": {},
   "outputs": [
    {
     "data": {
      "text/plain": [
       "[('subDepthRestribtionSuitabilityDesktopTests', 0.40573614835739136),\n",
       " ('meatyPausedComputationsAndIndices', 0.41920286417007446),\n",
       " ('subDepthRestrictionSuitabilityProTests', 0.4193030595779419),\n",
       " ('SEM_NOGPFAULTERRORBOX', 0.4200425446033478),\n",
       " ('pausedComputationsWithIndicesToInspect', 0.42074283957481384),\n",
       " ('HYDROSHARE_OAUTH_PROVIDER_NAME', 0.4215289354324341),\n",
       " ('incidentHotSpots_proTests', 0.4217190742492676),\n",
       " ('CONSOLIDATE_TIPS_RECEIVING', 0.4226289987564087),\n",
       " ('__EXTERNAL_LOGGERS_CONFIGURED', 0.422891229391098),\n",
       " ('inLinearTrueOrNonLinearFalseFlag', 0.4231418967247009)]"
      ]
     },
     "execution_count": 22,
     "metadata": {},
     "output_type": "execute_result"
    }
   ],
   "source": [
    "sorted_items[:10]"
   ]
  },
  {
   "cell_type": "code",
   "execution_count": 23,
   "metadata": {},
   "outputs": [
    {
     "data": {
      "text/plain": [
       "(array([1.000e+00, 0.000e+00, 0.000e+00, 0.000e+00, 0.000e+00, 0.000e+00,\n",
       "        0.000e+00, 0.000e+00, 3.000e+00, 3.000e+00, 6.000e+00, 3.000e+00,\n",
       "        8.000e+00, 9.000e+00, 9.000e+00, 1.400e+01, 2.400e+01, 3.400e+01,\n",
       "        5.200e+01, 6.500e+01, 7.000e+01, 1.110e+02, 1.640e+02, 1.950e+02,\n",
       "        2.440e+02, 3.490e+02, 4.370e+02, 5.850e+02, 7.290e+02, 8.800e+02,\n",
       "        1.202e+03, 1.419e+03, 1.750e+03, 2.231e+03, 2.562e+03, 2.973e+03,\n",
       "        3.529e+03, 3.999e+03, 4.419e+03, 5.042e+03, 5.600e+03, 6.127e+03,\n",
       "        6.889e+03, 7.496e+03, 8.126e+03, 8.458e+03, 8.826e+03, 9.047e+03,\n",
       "        9.097e+03, 9.073e+03, 8.830e+03, 8.384e+03, 7.751e+03, 7.325e+03,\n",
       "        6.510e+03, 5.770e+03, 4.944e+03, 4.338e+03, 3.597e+03, 3.039e+03,\n",
       "        2.556e+03, 2.026e+03, 1.596e+03, 1.344e+03, 1.084e+03, 8.960e+02,\n",
       "        7.760e+02, 6.790e+02, 5.370e+02, 4.360e+02, 4.220e+02, 4.120e+02,\n",
       "        2.920e+02, 2.590e+02, 2.280e+02, 1.800e+02, 1.670e+02, 1.460e+02,\n",
       "        1.260e+02, 1.120e+02, 7.800e+01, 5.500e+01, 3.100e+01, 3.900e+01,\n",
       "        4.500e+01, 3.700e+01, 2.500e+01, 1.300e+01, 1.100e+01, 1.300e+01,\n",
       "        7.000e+00, 6.000e+00, 9.000e+00, 2.000e+00, 2.000e+00, 2.000e+00,\n",
       "        1.000e+00, 1.000e+00, 1.000e+00, 4.000e+00]),\n",
       " array([0.40573615, 0.40737891, 0.40902167, 0.41066443, 0.4123072 ,\n",
       "        0.41394996, 0.41559272, 0.41723548, 0.41887824, 0.420521  ,\n",
       "        0.42216377, 0.42380653, 0.42544929, 0.42709205, 0.42873481,\n",
       "        0.43037758, 0.43202034, 0.4336631 , 0.43530586, 0.43694862,\n",
       "        0.43859138, 0.44023415, 0.44187691, 0.44351967, 0.44516243,\n",
       "        0.44680519, 0.44844796, 0.45009072, 0.45173348, 0.45337624,\n",
       "        0.455019  , 0.45666176, 0.45830453, 0.45994729, 0.46159005,\n",
       "        0.46323281, 0.46487557, 0.46651834, 0.4681611 , 0.46980386,\n",
       "        0.47144662, 0.47308938, 0.47473215, 0.47637491, 0.47801767,\n",
       "        0.47966043, 0.48130319, 0.48294595, 0.48458872, 0.48623148,\n",
       "        0.48787424, 0.489517  , 0.49115976, 0.49280253, 0.49444529,\n",
       "        0.49608805, 0.49773081, 0.49937357, 0.50101633, 0.5026591 ,\n",
       "        0.50430186, 0.50594462, 0.50758738, 0.50923014, 0.51087291,\n",
       "        0.51251567, 0.51415843, 0.51580119, 0.51744395, 0.51908671,\n",
       "        0.52072948, 0.52237224, 0.524015  , 0.52565776, 0.52730052,\n",
       "        0.52894329, 0.53058605, 0.53222881, 0.53387157, 0.53551433,\n",
       "        0.53715709, 0.53879986, 0.54044262, 0.54208538, 0.54372814,\n",
       "        0.5453709 , 0.54701367, 0.54865643, 0.55029919, 0.55194195,\n",
       "        0.55358471, 0.55522747, 0.55687024, 0.558513  , 0.56015576,\n",
       "        0.56179852, 0.56344128, 0.56508405, 0.56672681, 0.56836957,\n",
       "        0.57001233]),\n",
       " <BarContainer object of 100 artists>)"
      ]
     },
     "execution_count": 23,
     "metadata": {},
     "output_type": "execute_result"
    },
    {
     "data": {
      "image/png": "[encoded data removed]",
      "text/plain": [
       "<Figure size 640x480 with 1 Axes>"
      ]
     },
     "metadata": {},
     "output_type": "display_data"
    }
   ],
   "source": [
    "plt.hist([x[1] for x in sorted_items], bins=100)"
   ]
  },
  {
   "cell_type": "code",
   "execution_count": 24,
   "metadata": {},
   "outputs": [],
   "source": [
    "dataflow_edges = (\"enum_LAST_WRITE\", \"enum_LAST_READ\", \"enum_LAST_LEXICAL_USE\")"
   ]
  },
  {
   "cell_type": "code",
   "execution_count": 26,
   "metadata": {},
   "outputs": [],
   "source": [
    "def extract_variables(program):\n",
    "    locations = set()\n",
    "    tokens = program[\"source_tokens\"]\n",
    "    for loc in program[\"repair_candidates\"]:\n",
    "        if type(loc) == int:\n",
    "            locations.add(loc)\n",
    "\n",
    "    locations.add(program[\"error_location\"])\n",
    "\n",
    "    variables = dict()\n",
    "    print(locations)\n",
    "    for loc in locations:\n",
    "        variable = tokens[loc]\n",
    "        variables[variable] = variables.get(variable, 0) + 1\n",
    "\n",
    "    return variables"
   ]
  },
  {
   "cell_type": "code",
   "execution_count": 27,
   "metadata": {},
   "outputs": [
    {
     "name": "stdout",
     "output_type": "stream",
     "text": [
      "{33, 2, 4, 6, 8, 17, 19, 21, 23, 25, 27, 29, 31}\n"
     ]
    },
    {
     "data": {
      "text/plain": [
       "{'self': 5, 'key': 3, 'value': 3, 'flag': 2}"
      ]
     },
     "execution_count": 27,
     "metadata": {},
     "output_type": "execute_result"
    }
   ],
   "source": [
    "extract_variables(programs[0])"
   ]
  },
  {
   "cell_type": "code",
   "execution_count": null,
   "metadata": {},
   "outputs": [],
   "source": []
  }
 ],
 "metadata": {
  "kernelspec": {
   "display_name": "robustgnn",
   "language": "python",
   "name": "python3"
  },
  "language_info": {
   "codemirror_mode": {
    "name": "ipython",
    "version": 3
   },
   "file_extension": ".py",
   "mimetype": "text/x-python",
   "name": "python",
   "nbconvert_exporter": "python",
   "pygments_lexer": "ipython3",
   "version": "3.9.18"
  }
 },
 "nbformat": 4,
 "nbformat_minor": 2
}
