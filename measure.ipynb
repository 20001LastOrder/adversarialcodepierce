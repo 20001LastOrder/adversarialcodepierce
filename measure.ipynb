{
 "cells": [
  {
   "cell_type": "code",
   "execution_count": 1,
   "metadata": {},
   "outputs": [],
   "source": [
    "import glob\n",
    "import re\n",
    "import pandas as pd"
   ]
  },
  {
   "cell_type": "code",
   "execution_count": 20,
   "metadata": {},
   "outputs": [],
   "source": [
    "folder = \"results/code_summarization/t5_function_names\""
   ]
  },
  {
   "cell_type": "code",
   "execution_count": 21,
   "metadata": {},
   "outputs": [],
   "source": [
    "files = glob.glob(f\"{folder}/*.csv\")"
   ]
  },
  {
   "cell_type": "code",
   "execution_count": 22,
   "metadata": {},
   "outputs": [],
   "source": [
    "def measure_performance(df, thresh=0):\n",
    "    original_bleu_score = df[\"original bleu\"].mean()\n",
    "    adversarial_bleu_score = df[\"adversarial bleu\"].mean()\n",
    "\n",
    "    # an attack is considered success if the difference between original and adversarial bleu\n",
    "    # is greater than a threshold for each sample\n",
    "    attack_success = (df[\"original bleu\"] - df[\"adversarial bleu\"]) > thresh\n",
    "    success_rate = attack_success.mean()\n",
    "\n",
    "    return original_bleu_score, adversarial_bleu_score, success_rate"
   ]
  },
  {
   "cell_type": "code",
   "execution_count": 23,
   "metadata": {},
   "outputs": [
    {
     "data": {
      "text/plain": [
       "['results/code_summarization/t5_function_names\\\\heuristic_randomness_t5_space.csv',\n",
       " 'results/code_summarization/t5_function_names\\\\heuristic_randomness_t5_variables.csv',\n",
       " 'results/code_summarization/t5_function_names\\\\permutation_randomness_t5_variables.csv',\n",
       " 'results/code_summarization/t5_function_names\\\\random_randomness_t5_space.csv',\n",
       " 'results/code_summarization/t5_function_names\\\\random_randomness_t5_variables.csv',\n",
       " 'results/code_summarization/t5_function_names\\\\random_vector_randomness_t5_variables.csv']"
      ]
     },
     "execution_count": 23,
     "metadata": {},
     "output_type": "execute_result"
    }
   ],
   "source": [
    "files"
   ]
  },
  {
   "cell_type": "code",
   "execution_count": 24,
   "metadata": {},
   "outputs": [],
   "source": [
    "file = files[0]\n",
    "thresh = 0\n",
    "\n",
    "results = []\n",
    "\n",
    "for file in files:\n",
    "    name = re.split(r\"/|\\\\|\\.\", file)[-2]\n",
    "\n",
    "    df = pd.read_csv(file)\n",
    "    original_bleu_score, adversarial_bleu_score, success_rate = measure_performance(df, thresh=thresh)\n",
    "    difference = original_bleu_score - adversarial_bleu_score\n",
    "\n",
    "    results.append({\n",
    "        \"name\": name,\n",
    "        \"original bleu\": original_bleu_score,\n",
    "        \"adversarial bleu\": adversarial_bleu_score,\n",
    "        \"difference\": difference,\n",
    "        \"success rate\": success_rate\n",
    "    })\n",
    "\n",
    "results_df = pd.DataFrame(results)\n",
    "results_df.set_index(\"name\", inplace=True)"
   ]
  },
  {
   "cell_type": "code",
   "execution_count": 25,
   "metadata": {},
   "outputs": [
    {
     "data": {
      "text/html": [
       "<div>\n",
       "<style scoped>\n",
       "    .dataframe tbody tr th:only-of-type {\n",
       "        vertical-align: middle;\n",
       "    }\n",
       "\n",
       "    .dataframe tbody tr th {\n",
       "        vertical-align: top;\n",
       "    }\n",
       "\n",
       "    .dataframe thead th {\n",
       "        text-align: right;\n",
       "    }\n",
       "</style>\n",
       "<table border=\"1\" class=\"dataframe\">\n",
       "  <thead>\n",
       "    <tr style=\"text-align: right;\">\n",
       "      <th></th>\n",
       "      <th>original bleu</th>\n",
       "      <th>adversarial bleu</th>\n",
       "      <th>difference</th>\n",
       "      <th>success rate</th>\n",
       "    </tr>\n",
       "    <tr>\n",
       "      <th>name</th>\n",
       "      <th></th>\n",
       "      <th></th>\n",
       "      <th></th>\n",
       "      <th></th>\n",
       "    </tr>\n",
       "  </thead>\n",
       "  <tbody>\n",
       "    <tr>\n",
       "      <th>heuristic_randomness_t5_space</th>\n",
       "      <td>0.338929</td>\n",
       "      <td>0.230212</td>\n",
       "      <td>0.108717</td>\n",
       "      <td>0.995</td>\n",
       "    </tr>\n",
       "    <tr>\n",
       "      <th>heuristic_randomness_t5_variables</th>\n",
       "      <td>0.338929</td>\n",
       "      <td>0.203089</td>\n",
       "      <td>0.135840</td>\n",
       "      <td>0.985</td>\n",
       "    </tr>\n",
       "    <tr>\n",
       "      <th>permutation_randomness_t5_variables</th>\n",
       "      <td>0.338929</td>\n",
       "      <td>0.222685</td>\n",
       "      <td>0.116245</td>\n",
       "      <td>0.865</td>\n",
       "    </tr>\n",
       "    <tr>\n",
       "      <th>random_randomness_t5_space</th>\n",
       "      <td>0.338929</td>\n",
       "      <td>0.222334</td>\n",
       "      <td>0.116595</td>\n",
       "      <td>0.995</td>\n",
       "    </tr>\n",
       "    <tr>\n",
       "      <th>random_randomness_t5_variables</th>\n",
       "      <td>0.338929</td>\n",
       "      <td>0.198621</td>\n",
       "      <td>0.140308</td>\n",
       "      <td>1.000</td>\n",
       "    </tr>\n",
       "    <tr>\n",
       "      <th>random_vector_randomness_t5_variables</th>\n",
       "      <td>0.338929</td>\n",
       "      <td>0.249062</td>\n",
       "      <td>0.089867</td>\n",
       "      <td>0.970</td>\n",
       "    </tr>\n",
       "  </tbody>\n",
       "</table>\n",
       "</div>"
      ],
      "text/plain": [
       "                                       original bleu  adversarial bleu  \\\n",
       "name                                                                     \n",
       "heuristic_randomness_t5_space               0.338929          0.230212   \n",
       "heuristic_randomness_t5_variables           0.338929          0.203089   \n",
       "permutation_randomness_t5_variables         0.338929          0.222685   \n",
       "random_randomness_t5_space                  0.338929          0.222334   \n",
       "random_randomness_t5_variables              0.338929          0.198621   \n",
       "random_vector_randomness_t5_variables       0.338929          0.249062   \n",
       "\n",
       "                                       difference  success rate  \n",
       "name                                                             \n",
       "heuristic_randomness_t5_space            0.108717         0.995  \n",
       "heuristic_randomness_t5_variables        0.135840         0.985  \n",
       "permutation_randomness_t5_variables      0.116245         0.865  \n",
       "random_randomness_t5_space               0.116595         0.995  \n",
       "random_randomness_t5_variables           0.140308         1.000  \n",
       "random_vector_randomness_t5_variables    0.089867         0.970  "
      ]
     },
     "execution_count": 25,
     "metadata": {},
     "output_type": "execute_result"
    }
   ],
   "source": [
    "results_df"
   ]
  },
  {
   "cell_type": "code",
   "execution_count": 40,
   "metadata": {},
   "outputs": [
    {
     "name": "stdout",
     "output_type": "stream",
     "text": [
      "|   success rate |\n",
      "|---------------:|\n",
      "|          0.145 |\n",
      "|          0.215 |\n",
      "|          0.12  |\n",
      "|          0.16  |\n",
      "|          0.195 |\n",
      "|          0.185 |\n"
     ]
    }
   ],
   "source": [
    "print(results_df[\"success rate\"].to_markdown(index=False))"
   ]
  },
  {
   "cell_type": "code",
   "execution_count": 37,
   "metadata": {},
   "outputs": [],
   "source": [
    "folder = \"results/bug_detection/graphcodebert\"\n",
    "\n",
    "files = glob.glob(f\"{folder}/*.csv\")"
   ]
  },
  {
   "cell_type": "code",
   "execution_count": 38,
   "metadata": {},
   "outputs": [
    {
     "data": {
      "text/plain": [
       "['results/bug_detection/graphcodebert\\\\heuristic_randomness_codebert_space.csv',\n",
       " 'results/bug_detection/graphcodebert\\\\heuristic_randomness_codebert_variable.csv',\n",
       " 'results/bug_detection/graphcodebert\\\\permutation_randomness_codebert_space.csv',\n",
       " 'results/bug_detection/graphcodebert\\\\random_randomness_codebert_space.csv',\n",
       " 'results/bug_detection/graphcodebert\\\\random_randomness_codebert_variable.csv',\n",
       " 'results/bug_detection/graphcodebert\\\\random_vector_randomness_codebert_variable.csv']"
      ]
     },
     "execution_count": 38,
     "metadata": {},
     "output_type": "execute_result"
    }
   ],
   "source": [
    "files"
   ]
  },
  {
   "cell_type": "code",
   "execution_count": 39,
   "metadata": {},
   "outputs": [],
   "source": [
    "\n",
    "results = []\n",
    "\n",
    "for file in files:\n",
    "    name = re.split(r\"/|\\\\|\\.\", file)[-2]\n",
    "\n",
    "    df = pd.read_csv(file)\n",
    "    is_adverarial_ratio = df[\"is adversarial\"].mean()\n",
    "\n",
    "    results.append({\n",
    "        \"name\": name,\n",
    "        \"success rate\": is_adverarial_ratio\n",
    "    })\n",
    "\n",
    "results_df = pd.DataFrame(results)\n",
    "results_df.set_index(\"name\", inplace=True)"
   ]
  },
  {
   "cell_type": "code",
   "execution_count": 42,
   "metadata": {},
   "outputs": [
    {
     "name": "stdout",
     "output_type": "stream",
     "text": [
      "| name                                       |   success rate |\n",
      "|:-------------------------------------------|---------------:|\n",
      "| heuristic_randomness_codebert_space        |       0.938537 |\n",
      "| heuristic_randomness_codebert_variable     |       0.405655 |\n",
      "| permutation_randomness_codebert_space      |       0.432084 |\n",
      "| random_randomness_codebert_space           |       0.303626 |\n",
      "| random_randomness_codebert_variable        |       0.334358 |\n",
      "| random_vector_randomness_codebert_variable |       0.814997 |\n"
     ]
    }
   ],
   "source": [
    "print(results_df.to_markdown())"
   ]
  },
  {
   "cell_type": "code",
   "execution_count": null,
   "metadata": {},
   "outputs": [],
   "source": []
  }
 ],
 "metadata": {
  "kernelspec": {
   "display_name": "robustgnn",
   "language": "python",
   "name": "python3"
  },
  "language_info": {
   "codemirror_mode": {
    "name": "ipython",
    "version": 3
   },
   "file_extension": ".py",
   "mimetype": "text/x-python",
   "name": "python",
   "nbconvert_exporter": "python",
   "pygments_lexer": "ipython3",
   "version": "3.9.18"
  }
 },
 "nbformat": 4,
 "nbformat_minor": 2
}
