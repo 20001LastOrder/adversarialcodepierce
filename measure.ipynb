{
 "cells": [
  {
   "cell_type": "code",
   "execution_count": 33,
   "metadata": {},
   "outputs": [],
   "source": [
    "import glob\n",
    "import re\n",
    "import pandas as pd"
   ]
  },
  {
   "cell_type": "code",
   "execution_count": 41,
   "metadata": {},
   "outputs": [],
   "source": [
    "folder = \"results/code_summarization/t5\""
   ]
  },
  {
   "cell_type": "code",
   "execution_count": 42,
   "metadata": {},
   "outputs": [],
   "source": [
    "files = glob.glob(f\"{folder}/*.csv\")"
   ]
  },
  {
   "cell_type": "code",
   "execution_count": 43,
   "metadata": {},
   "outputs": [],
   "source": [
    "def measure_performance(df, thresh=0):\n",
    "    original_bleu_score = df[\"original bleu\"].mean()\n",
    "    adversarial_bleu_score = df[\"adversarial bleu\"].mean()\n",
    "\n",
    "    # an attack is considered success if the difference between original and adversarial bleu\n",
    "    # is greater than a threshold for each sample\n",
    "    attack_success = (df[\"original bleu\"] - df[\"adversarial bleu\"]) > thresh\n",
    "    success_rate = attack_success.mean()\n",
    "\n",
    "    return original_bleu_score, adversarial_bleu_score, success_rate"
   ]
  },
  {
   "cell_type": "code",
   "execution_count": 44,
   "metadata": {},
   "outputs": [
    {
     "data": {
      "text/plain": [
       "['results/code_summarization/t5\\\\heuristic_randomness_t5_space.json.csv',\n",
       " 'results/code_summarization/t5\\\\heuristic_randomness_t5_variables.json.csv',\n",
       " 'results/code_summarization/t5\\\\permutation_randomness_t5_variables.csv',\n",
       " 'results/code_summarization/t5\\\\random_randomness_t5_space.json.csv',\n",
       " 'results/code_summarization/t5\\\\random_randomness_t5_variables.json.csv',\n",
       " 'results/code_summarization/t5\\\\random_vector_randomness_t5_variables.csv']"
      ]
     },
     "execution_count": 44,
     "metadata": {},
     "output_type": "execute_result"
    }
   ],
   "source": [
    "files"
   ]
  },
  {
   "cell_type": "code",
   "execution_count": 53,
   "metadata": {},
   "outputs": [],
   "source": [
    "file = files[0]\n",
    "thresh = 0.15\n",
    "\n",
    "results = []\n",
    "\n",
    "for file in files:\n",
    "    name = re.split(r\"/|\\\\|\\.\", file)[-2]\n",
    "\n",
    "    df = pd.read_csv(file)\n",
    "    original_bleu_score, adversarial_bleu_score, success_rate = measure_performance(df, thresh=thresh)\n",
    "    difference = original_bleu_score - adversarial_bleu_score\n",
    "\n",
    "    results.append({\n",
    "        \"name\": name,\n",
    "        \"original bleu\": original_bleu_score,\n",
    "        \"adversarial bleu\": adversarial_bleu_score,\n",
    "        \"difference\": difference,\n",
    "        \"success rate\": success_rate\n",
    "    })\n",
    "\n",
    "results_df = pd.DataFrame(results)\n",
    "results_df.set_index(\"name\", inplace=True)"
   ]
  },
  {
   "cell_type": "code",
   "execution_count": 54,
   "metadata": {},
   "outputs": [
    {
     "data": {
      "text/html": [
       "<div>\n",
       "<style scoped>\n",
       "    .dataframe tbody tr th:only-of-type {\n",
       "        vertical-align: middle;\n",
       "    }\n",
       "\n",
       "    .dataframe tbody tr th {\n",
       "        vertical-align: top;\n",
       "    }\n",
       "\n",
       "    .dataframe thead th {\n",
       "        text-align: right;\n",
       "    }\n",
       "</style>\n",
       "<table border=\"1\" class=\"dataframe\">\n",
       "  <thead>\n",
       "    <tr style=\"text-align: right;\">\n",
       "      <th></th>\n",
       "      <th>original bleu</th>\n",
       "      <th>adversarial bleu</th>\n",
       "      <th>difference</th>\n",
       "      <th>success rate</th>\n",
       "    </tr>\n",
       "    <tr>\n",
       "      <th>name</th>\n",
       "      <th></th>\n",
       "      <th></th>\n",
       "      <th></th>\n",
       "      <th></th>\n",
       "    </tr>\n",
       "  </thead>\n",
       "  <tbody>\n",
       "    <tr>\n",
       "      <th>json</th>\n",
       "      <td>0.338929</td>\n",
       "      <td>0.275115</td>\n",
       "      <td>0.063814</td>\n",
       "      <td>0.135</td>\n",
       "    </tr>\n",
       "    <tr>\n",
       "      <th>json</th>\n",
       "      <td>0.338929</td>\n",
       "      <td>0.258220</td>\n",
       "      <td>0.080709</td>\n",
       "      <td>0.180</td>\n",
       "    </tr>\n",
       "    <tr>\n",
       "      <th>permutation_randomness_t5_variables</th>\n",
       "      <td>0.338929</td>\n",
       "      <td>0.292409</td>\n",
       "      <td>0.046520</td>\n",
       "      <td>0.105</td>\n",
       "    </tr>\n",
       "    <tr>\n",
       "      <th>json</th>\n",
       "      <td>0.338929</td>\n",
       "      <td>0.270393</td>\n",
       "      <td>0.068537</td>\n",
       "      <td>0.120</td>\n",
       "    </tr>\n",
       "    <tr>\n",
       "      <th>json</th>\n",
       "      <td>0.338929</td>\n",
       "      <td>0.262753</td>\n",
       "      <td>0.076176</td>\n",
       "      <td>0.165</td>\n",
       "    </tr>\n",
       "    <tr>\n",
       "      <th>random_vector_randomness_t5_variables</th>\n",
       "      <td>0.338929</td>\n",
       "      <td>0.274268</td>\n",
       "      <td>0.064662</td>\n",
       "      <td>0.120</td>\n",
       "    </tr>\n",
       "  </tbody>\n",
       "</table>\n",
       "</div>"
      ],
      "text/plain": [
       "                                       original bleu  adversarial bleu  \\\n",
       "name                                                                     \n",
       "json                                        0.338929          0.275115   \n",
       "json                                        0.338929          0.258220   \n",
       "permutation_randomness_t5_variables         0.338929          0.292409   \n",
       "json                                        0.338929          0.270393   \n",
       "json                                        0.338929          0.262753   \n",
       "random_vector_randomness_t5_variables       0.338929          0.274268   \n",
       "\n",
       "                                       difference  success rate  \n",
       "name                                                             \n",
       "json                                     0.063814         0.135  \n",
       "json                                     0.080709         0.180  \n",
       "permutation_randomness_t5_variables      0.046520         0.105  \n",
       "json                                     0.068537         0.120  \n",
       "json                                     0.076176         0.165  \n",
       "random_vector_randomness_t5_variables    0.064662         0.120  "
      ]
     },
     "execution_count": 54,
     "metadata": {},
     "output_type": "execute_result"
    }
   ],
   "source": [
    "results_df"
   ]
  },
  {
   "cell_type": "code",
   "execution_count": 40,
   "metadata": {},
   "outputs": [
    {
     "name": "stdout",
     "output_type": "stream",
     "text": [
      "|   success rate |\n",
      "|---------------:|\n",
      "|          0.145 |\n",
      "|          0.215 |\n",
      "|          0.12  |\n",
      "|          0.16  |\n",
      "|          0.195 |\n",
      "|          0.185 |\n"
     ]
    }
   ],
   "source": [
    "print(results_df[\"success rate\"].to_markdown(index=False))"
   ]
  },
  {
   "cell_type": "code",
   "execution_count": null,
   "metadata": {},
   "outputs": [],
   "source": []
  }
 ],
 "metadata": {
  "kernelspec": {
   "display_name": "robustgnn",
   "language": "python",
   "name": "python3"
  },
  "language_info": {
   "codemirror_mode": {
    "name": "ipython",
    "version": 3
   },
   "file_extension": ".py",
   "mimetype": "text/x-python",
   "name": "python",
   "nbconvert_exporter": "python",
   "pygments_lexer": "ipython3",
   "version": "3.9.18"
  }
 },
 "nbformat": 4,
 "nbformat_minor": 2
}
